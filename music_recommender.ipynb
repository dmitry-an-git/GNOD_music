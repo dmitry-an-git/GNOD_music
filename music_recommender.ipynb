{
 "cells": [
  {
   "cell_type": "code",
   "execution_count": 1,
   "id": "f77d2f3e",
   "metadata": {},
   "outputs": [],
   "source": [
    "import sys\n",
    "sys.path.append('functions/')\n",
    "import functions\n",
    "from functions import music_recommender"
   ]
  },
  {
   "cell_type": "code",
   "execution_count": 2,
   "id": "d1fd7e49",
   "metadata": {},
   "outputs": [
    {
     "name": "stdout",
     "output_type": "stream",
     "text": [
      "Pls input the song:one\n",
      "Pls input the artist:u2\n",
      "You are looking for one by u2\n",
      "Press 'Y' if true, press any other key to repeat input:Y\n",
      "Ok, the input is accepted.\n",
      "Querying songs...\n",
      "The following is found: \n"
     ]
    },
    {
     "data": {
      "text/html": [
       "<div>\n",
       "<style scoped>\n",
       "    .dataframe tbody tr th:only-of-type {\n",
       "        vertical-align: middle;\n",
       "    }\n",
       "\n",
       "    .dataframe tbody tr th {\n",
       "        vertical-align: top;\n",
       "    }\n",
       "\n",
       "    .dataframe thead th {\n",
       "        text-align: right;\n",
       "    }\n",
       "</style>\n",
       "<table border=\"1\" class=\"dataframe\">\n",
       "  <thead>\n",
       "    <tr style=\"text-align: right;\">\n",
       "      <th></th>\n",
       "      <th>artist</th>\n",
       "      <th>name</th>\n",
       "      <th>release</th>\n",
       "    </tr>\n",
       "  </thead>\n",
       "  <tbody>\n",
       "    <tr>\n",
       "      <th>1</th>\n",
       "      <td>One</td>\n",
       "      <td>U2</td>\n",
       "      <td>1991-11-18</td>\n",
       "    </tr>\n",
       "    <tr>\n",
       "      <th>2</th>\n",
       "      <td>One - Remastered 2018</td>\n",
       "      <td>U2</td>\n",
       "      <td>2021-11-19</td>\n",
       "    </tr>\n",
       "    <tr>\n",
       "      <th>3</th>\n",
       "      <td>One Tree Hill</td>\n",
       "      <td>U2</td>\n",
       "      <td>1987-03-03</td>\n",
       "    </tr>\n",
       "    <tr>\n",
       "      <th>4</th>\n",
       "      <td>One Tree Hill - Remastered 2007</td>\n",
       "      <td>U2</td>\n",
       "      <td>1987-03-10</td>\n",
       "    </tr>\n",
       "    <tr>\n",
       "      <th>5</th>\n",
       "      <td>13 (There is A Light)</td>\n",
       "      <td>U2</td>\n",
       "      <td>2017-12-01</td>\n",
       "    </tr>\n",
       "  </tbody>\n",
       "</table>\n",
       "</div>"
      ],
      "text/plain": [
       "                            artist name     release\n",
       "1                              One   U2  1991-11-18\n",
       "2            One - Remastered 2018   U2  2021-11-19\n",
       "3                    One Tree Hill   U2  1987-03-03\n",
       "4  One Tree Hill - Remastered 2007   U2  1987-03-10\n",
       "5            13 (There is A Light)   U2  2017-12-01"
      ]
     },
     "metadata": {},
     "output_type": "display_data"
    },
    {
     "name": "stdout",
     "output_type": "stream",
     "text": [
      "Please select the right song: 1\n",
      "the song is in the list\n",
      "is it hot: False\n",
      "Querying audio features...\n",
      "Querying audio features... Done\n",
      "The cluster is 3.\n",
      "The recommended song is 'Dream On' by Aerosmith, https://open.spotify.com/track/5MxNLUsfh7uzROypsoO5qe.\n",
      "Press Q if you want to exit, any other key if you want to continue from the start: Q\n",
      "Bye!\n"
     ]
    }
   ],
   "source": [
    "music_recommender()"
   ]
  },
  {
   "cell_type": "code",
   "execution_count": null,
   "id": "6e0389d8",
   "metadata": {},
   "outputs": [],
   "source": []
  }
 ],
 "metadata": {
  "kernelspec": {
   "display_name": "Python 3 (ipykernel)",
   "language": "python",
   "name": "python3"
  },
  "language_info": {
   "codemirror_mode": {
    "name": "ipython",
    "version": 3
   },
   "file_extension": ".py",
   "mimetype": "text/x-python",
   "name": "python",
   "nbconvert_exporter": "python",
   "pygments_lexer": "ipython3",
   "version": "3.9.7"
  }
 },
 "nbformat": 4,
 "nbformat_minor": 5
}
